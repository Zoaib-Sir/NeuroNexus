{
  "nbformat": 4,
  "nbformat_minor": 0,
  "metadata": {
    "colab": {
      "provenance": []
    },
    "kernelspec": {
      "name": "python3",
      "display_name": "Python 3"
    },
    "language_info": {
      "name": "python"
    }
  },
  "cells": [
    {
      "cell_type": "markdown",
      "source": [
        "Importing libraries"
      ],
      "metadata": {
        "id": "jz6P8J8OXLUF"
      }
    },
    {
      "cell_type": "code",
      "execution_count": null,
      "metadata": {
        "id": "lUToRiTIIVdo"
      },
      "outputs": [],
      "source": [
        "import numpy as np\n",
        "import matplotlib.pyplot as plt\n",
        "import pandas as pd"
      ]
    },
    {
      "cell_type": "markdown",
      "source": [
        "Reading Data"
      ],
      "metadata": {
        "id": "YLu-wZsyXQ5G"
      }
    },
    {
      "cell_type": "code",
      "source": [
        "dataset = pd.read_csv('./Churn_Modelling.csv')\n",
        "dataset['Gender'] = dataset['Gender'].apply(lambda x: 0 if x == 'Female' else 1)\n",
        "X = dataset.iloc[:, 3:-1].copy()\n",
        "y = dataset.iloc[:, -1].values"
      ],
      "metadata": {
        "id": "OOIL5QH2JNbH"
      },
      "execution_count": null,
      "outputs": []
    },
    {
      "cell_type": "code",
      "source": [
        "from sklearn.compose import ColumnTransformer\n",
        "from sklearn.preprocessing import OneHotEncoder\n",
        "ct = ColumnTransformer(transformers=[('encoder', OneHotEncoder(), [1])], remainder='passthrough')  # Assuming 'Geography' is the first column\n",
        "X = ct.fit_transform(X)"
      ],
      "metadata": {
        "id": "C3bL86K7QRHV"
      },
      "execution_count": null,
      "outputs": []
    },
    {
      "cell_type": "markdown",
      "source": [
        "Splitting Data into Training and Test Set"
      ],
      "metadata": {
        "id": "wVJUFzeyXUGb"
      }
    },
    {
      "cell_type": "code",
      "source": [
        "from sklearn.model_selection import train_test_split\n",
        "X_train, X_test, y_train, y_test = train_test_split(X, y, test_size = 0.25, random_state = 0)"
      ],
      "metadata": {
        "id": "auMcJSNERaLh"
      },
      "execution_count": null,
      "outputs": []
    },
    {
      "cell_type": "markdown",
      "source": [
        "Fitting the model"
      ],
      "metadata": {
        "id": "eoetyfAVXas1"
      }
    },
    {
      "cell_type": "code",
      "source": [
        "from sklearn.preprocessing import StandardScaler\n",
        "sc = StandardScaler()\n",
        "X_train = sc.fit_transform(X_train)\n",
        "X_test = sc.transform(X_test)"
      ],
      "metadata": {
        "id": "gbOL496DRfal"
      },
      "execution_count": null,
      "outputs": []
    },
    {
      "cell_type": "code",
      "source": [
        "from sklearn.ensemble import RandomForestClassifier\n",
        "random_forest_classifier = RandomForestClassifier(n_estimators=100, random_state=0)\n",
        "random_forest_classifier.fit(X_train, y_train)"
      ],
      "metadata": {
        "id": "bAWB-hSRXfbj"
      },
      "execution_count": null,
      "outputs": []
    },
    {
      "cell_type": "markdown",
      "source": [
        "Displaying the results"
      ],
      "metadata": {
        "id": "DbBf7033XkQL"
      }
    },
    {
      "cell_type": "code",
      "source": [
        "y_pred_random_forest = random_forest_classifier.predict(X_test)\n",
        "from sklearn.metrics import confusion_matrix, accuracy_score\n",
        "cm_random_forest = confusion_matrix(y_test, y_pred_random_forest)\n",
        "print(\"Confusion Matrix for Random Forest:\")\n",
        "print(cm_random_forest)\n",
        "print(\"Accuracy score for Random Forest:\", accuracy_score(y_test, y_pred_random_forest))"
      ],
      "metadata": {
        "id": "0OK_l-j8Rmyh"
      },
      "execution_count": null,
      "outputs": []
    }
  ]
}