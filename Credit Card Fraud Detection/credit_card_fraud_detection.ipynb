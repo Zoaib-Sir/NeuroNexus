{
  "cells": [
    {
      "cell_type": "code",
      "execution_count": null,
      "metadata": {
        "id": "nyxUrkJzY8qe"
      },
      "outputs": [],
      "source": [
        "# Importing necessary libraries\n",
        "import datetime\n",
        "import numpy as np\n",
        "import pandas as pd\n",
        "from sklearn.model_selection import train_test_split\n",
        "from sklearn.svm import SVC\n",
        "from sklearn.metrics import accuracy_score\n",
        "from sklearn.preprocessing import LabelEncoder"
      ]
    },
    {
      "cell_type": "code",
      "execution_count": null,
      "metadata": {
        "id": "7OOLsJkaZQ8C"
      },
      "outputs": [],
      "source": [
        "# Reading data\n",
        "train_data = pd.read_csv(\"/content/drive/MyDrive/fraudTrain.csv\")"
      ]
    },
    {
      "cell_type": "code",
      "execution_count": null,
      "metadata": {
        "id": "mJSOJVfwZXQT"
      },
      "outputs": [],
      "source": [
        "# Data Preprocessing\n",
        "train_data[\"trans_date_trans_time\"] = pd.to_datetime(train_data[\"trans_date_trans_time\"])\n",
        "train_data[\"dob\"] = pd.to_datetime(train_data[\"dob\"])"
      ]
    },
    {
      "cell_type": "code",
      "execution_count": null,
      "metadata": {
        "id": "yu-fT4LYZZJb"
      },
      "outputs": [],
      "source": [
        "# Dropping unnecessary columns\n",
        "columns_to_drop = ['Unnamed: 0', 'cc_num', 'first', 'last', 'street', 'city', 'state', 'zip', 'dob', 'trans_num', 'trans_date_trans_time']\n",
        "train_data.drop(columns=columns_to_drop, inplace=True)"
      ]
    },
    {
      "cell_type": "code",
      "execution_count": null,
      "metadata": {
        "id": "Aa5-yZWYZbHq"
      },
      "outputs": [],
      "source": [
        "# Dropping rows with missing values\n",
        "train_data = train_data.dropna().reset_index(drop=True)"
      ]
    },
    {
      "cell_type": "code",
      "execution_count": null,
      "metadata": {
        "id": "OXOa4dI9Zb8n"
      },
      "outputs": [],
      "source": [
        "# Encoding categorical variables\n",
        "encoder = LabelEncoder()\n",
        "train_data[\"merchant\"] = encoder.fit_transform(train_data[\"merchant\"])\n",
        "train_data[\"category\"] = encoder.fit_transform(train_data[\"category\"])\n",
        "train_data[\"gender\"] = encoder.fit_transform(train_data[\"gender\"])\n",
        "train_data[\"job\"] = encoder.fit_transform(train_data[\"job\"])"
      ]
    },
    {
      "cell_type": "code",
      "execution_count": null,
      "metadata": {
        "id": "rYpBUSJMZeeG"
      },
      "outputs": [],
      "source": [
        "# Splitting data into features and target variable\n",
        "X = train_data.drop(columns=[\"is_fraud\"], inplace=False)\n",
        "Y = train_data[\"is_fraud\"]"
      ]
    },
    {
      "cell_type": "code",
      "execution_count": null,
      "metadata": {
        "id": "VbHLhY1XZgQL"
      },
      "outputs": [],
      "source": [
        "# Training the Model\n",
        "model = SVC()\n",
        "model.fit(X, Y)"
      ]
    },
    {
      "cell_type": "code",
      "execution_count": null,
      "metadata": {
        "colab": {
          "base_uri": "https://localhost:8080/"
        },
        "id": "yB9zemIhZlSb",
        "outputId": "185ff687-49ea-4665-d7f6-521cacc3a663"
      },
      "outputs": [
        {
          "output_type": "stream",
          "name": "stdout",
          "text": [
            "Training Accuracy: 99.42%\n"
          ]
        }
      ],
      "source": [
        "# Displaying training accuracy\n",
        "train_accuracy = model.score(X, Y)\n",
        "print(f\"Training Accuracy: {train_accuracy:.2%}\")"
      ]
    },
    {
      "cell_type": "code",
      "execution_count": null,
      "metadata": {
        "id": "d-r_tkXtZl6K"
      },
      "outputs": [],
      "source": [
        "# Testing the model\n",
        "test_data = pd.read_csv(\"/content/drive/MyDrive/fraudTest.csv\")"
      ]
    },
    {
      "cell_type": "code",
      "execution_count": null,
      "metadata": {
        "id": "BXlRMW5kZoCz"
      },
      "outputs": [],
      "source": [
        "# Dropping unnecessary columns in the test data\n",
        "test_data.drop(columns=columns_to_drop, inplace=True)"
      ]
    },
    {
      "cell_type": "code",
      "source": [
        "test_data.drop(columns=['Unnamed: 0','cc_num','first', 'last', 'street', 'city', 'state', 'zip', 'dob', 'trans_num','trans_date_trans_time'],inplace=True)"
      ],
      "metadata": {
        "id": "jm2ziQGTA7Kf"
      },
      "execution_count": null,
      "outputs": []
    },
    {
      "cell_type": "code",
      "execution_count": null,
      "metadata": {
        "id": "eH0WSaFzZo8K"
      },
      "outputs": [],
      "source": [
        "encoder = LabelEncoder()\n",
        "test_data[\"merchant\"] = encoder.fit_transform(test_data[\"merchant\"])\n",
        "test_data[\"category\"] = encoder.fit_transform(test_data[\"category\"])\n",
        "test_data[\"gender\"] = encoder.fit_transform(test_data[\"gender\"])\n",
        "test_data[\"job\"] = encoder.fit_transform(test_data[\"job\"])"
      ]
    },
    {
      "cell_type": "code",
      "execution_count": null,
      "metadata": {
        "id": "2xYx4KTNZq8f"
      },
      "outputs": [],
      "source": [
        "# Splitting test data into features and target variable\n",
        "X_test = test_data.drop(columns=[\"is_fraud\"], inplace=False)\n",
        "Y_test = test_data[\"is_fraud\"]"
      ]
    },
    {
      "cell_type": "code",
      "execution_count": null,
      "metadata": {
        "id": "JidRWH41Zs26"
      },
      "outputs": [],
      "source": [
        "# Making predictions on the test set\n",
        "y_pred = model.predict(X_test)"
      ]
    },
    {
      "cell_type": "code",
      "execution_count": null,
      "metadata": {
        "colab": {
          "base_uri": "https://localhost:8080/"
        },
        "id": "UOKFDbxuZvJz",
        "outputId": "72e758c7-c6c6-429d-cc76-d3474789b3f8"
      },
      "outputs": [
        {
          "output_type": "stream",
          "name": "stdout",
          "text": [
            "Test Accuracy: 99.61%\n"
          ]
        }
      ],
      "source": [
        "# Calculating and displaying accuracy on the test set\n",
        "test_accuracy = accuracy_score(Y_test, y_pred)\n",
        "print(f\"Test Accuracy: {test_accuracy:.2%}\")"
      ]
    }
  ],
  "metadata": {
    "colab": {
      "provenance": []
    },
    "kernelspec": {
      "display_name": "Python 3",
      "name": "python3"
    },
    "language_info": {
      "name": "python"
    }
  },
  "nbformat": 4,
  "nbformat_minor": 0
}