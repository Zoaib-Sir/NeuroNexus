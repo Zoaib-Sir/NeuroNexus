{
  "nbformat": 4,
  "nbformat_minor": 0,
  "metadata": {
    "colab": {
      "provenance": []
    },
    "kernelspec": {
      "name": "python3",
      "display_name": "Python 3"
    },
    "language_info": {
      "name": "python"
    }
  },
  "cells": [
    {
      "cell_type": "code",
      "execution_count": null,
      "metadata": {
        "id": "nyxUrkJzY8qe"
      },
      "outputs": [],
      "source": [
        "# Importing necessary libraries\n",
        "import datetime\n",
        "import numpy as np\n",
        "import pandas as pd\n",
        "from sklearn.model_selection import train_test_split\n",
        "from sklearn.svm import SVC\n",
        "from sklearn.metrics import accuracy_score\n",
        "from sklearn.preprocessing import LabelEncoder"
      ]
    },
    {
      "cell_type": "code",
      "source": [
        "# Reading data\n",
        "train_data = pd.read_csv(\"./fraudTrain.csv\")"
      ],
      "metadata": {
        "id": "7OOLsJkaZQ8C"
      },
      "execution_count": null,
      "outputs": []
    },
    {
      "cell_type": "code",
      "source": [
        "# Data Preprocessing\n",
        "train_data[\"trans_date_trans_time\"] = pd.to_datetime(train_data[\"trans_date_trans_time\"])\n",
        "train_data[\"dob\"] = pd.to_datetime(train_data[\"dob\"])"
      ],
      "metadata": {
        "id": "mJSOJVfwZXQT"
      },
      "execution_count": null,
      "outputs": []
    },
    {
      "cell_type": "code",
      "source": [
        "# Dropping unnecessary columns\n",
        "columns_to_drop = ['Unnamed: 0', 'cc_num', 'first', 'last', 'street', 'city', 'state', 'zip', 'dob', 'trans_num', 'trans_date_trans_time']\n",
        "train_data.drop(columns=columns_to_drop, inplace=True)"
      ],
      "metadata": {
        "id": "yu-fT4LYZZJb"
      },
      "execution_count": null,
      "outputs": []
    },
    {
      "cell_type": "code",
      "source": [
        "# Dropping rows with missing values\n",
        "train_data = train_data.dropna().reset_index(drop=True)"
      ],
      "metadata": {
        "id": "Aa5-yZWYZbHq"
      },
      "execution_count": null,
      "outputs": []
    },
    {
      "cell_type": "code",
      "source": [
        "# Encoding categorical variables\n",
        "encoder = LabelEncoder()\n",
        "train_data[\"merchant\"] = encoder.fit_transform(train_data[\"merchant\"])\n",
        "train_data[\"category\"] = encoder.fit_transform(train_data[\"category\"])\n",
        "train_data[\"gender\"] = encoder.fit_transform(train_data[\"gender\"])\n",
        "train_data[\"job\"] = encoder.fit_transform(train_data[\"job\"])"
      ],
      "metadata": {
        "id": "OXOa4dI9Zb8n"
      },
      "execution_count": null,
      "outputs": []
    },
    {
      "cell_type": "code",
      "source": [
        "# Splitting data into features and target variable\n",
        "X = train_data.drop(columns=[\"is_fraud\"], inplace=False)\n",
        "Y = train_data[\"is_fraud\"]"
      ],
      "metadata": {
        "id": "rYpBUSJMZeeG"
      },
      "execution_count": null,
      "outputs": []
    },
    {
      "cell_type": "code",
      "source": [
        "# Training the Model\n",
        "model = SVC()\n",
        "model.fit(X, Y)"
      ],
      "metadata": {
        "id": "VbHLhY1XZgQL"
      },
      "execution_count": null,
      "outputs": []
    },
    {
      "cell_type": "code",
      "source": [
        "# Displaying training accuracy\n",
        "train_accuracy = model.score(X, Y)\n",
        "print(f\"Training Accuracy: {train_accuracy:.2%}\")"
      ],
      "metadata": {
        "id": "yB9zemIhZlSb"
      },
      "execution_count": null,
      "outputs": []
    },
    {
      "cell_type": "code",
      "source": [
        "# Testing the model\n",
        "test_data = pd.read_csv(\"./fraudTest.csv\")"
      ],
      "metadata": {
        "id": "d-r_tkXtZl6K"
      },
      "execution_count": null,
      "outputs": []
    },
    {
      "cell_type": "code",
      "source": [
        "# Dropping unnecessary columns in the test data\n",
        "test_data.drop(columns=columns_to_drop, inplace=True)"
      ],
      "metadata": {
        "id": "BXlRMW5kZoCz"
      },
      "execution_count": null,
      "outputs": []
    },
    {
      "cell_type": "code",
      "source": [
        "# Encoding categorical variables in the test data\n",
        "test_data[\"merchant\"] = encoder.transform(test_data[\"merchant\"])\n",
        "test_data[\"category\"] = encoder.transform(test_data[\"category\"])\n",
        "test_data[\"gender\"] = encoder.transform(test_data[\"gender\"])\n",
        "test_data[\"job\"] = encoder.transform(test_data[\"job\"])"
      ],
      "metadata": {
        "id": "eH0WSaFzZo8K"
      },
      "execution_count": null,
      "outputs": []
    },
    {
      "cell_type": "code",
      "source": [
        "# Splitting test data into features and target variable\n",
        "X_test = test_data.drop(columns=[\"is_fraud\"], inplace=False)\n",
        "Y_test = test_data[\"is_fraud\"]"
      ],
      "metadata": {
        "id": "2xYx4KTNZq8f"
      },
      "execution_count": null,
      "outputs": []
    },
    {
      "cell_type": "code",
      "source": [
        "# Making predictions on the test set\n",
        "y_pred = model.predict(X_test)"
      ],
      "metadata": {
        "id": "JidRWH41Zs26"
      },
      "execution_count": null,
      "outputs": []
    },
    {
      "cell_type": "code",
      "source": [
        "# Calculating and displaying accuracy on the test set\n",
        "test_accuracy = accuracy_score(Y_test, y_pred)\n",
        "print(f\"Test Accuracy: {test_accuracy:.2%}\")"
      ],
      "metadata": {
        "id": "UOKFDbxuZvJz"
      },
      "execution_count": null,
      "outputs": []
    }
  ]
}